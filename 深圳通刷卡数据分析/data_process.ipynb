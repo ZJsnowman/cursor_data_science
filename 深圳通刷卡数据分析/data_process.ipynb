{
 "cells": [
  {
   "cell_type": "code",
   "execution_count": null,
   "metadata": {},
   "outputs": [],
   "source": [
    "import json\n",
    "import pandas as pd\n",
    "\n",
    "# 读取JSON文件\n",
    "data = []\n",
    "with open('data/2018record3.jsons', 'r', encoding='utf-8') as f:\n",
    "    for line in f.readlines():\n",
    "        data += json.loads(line)['data']\n",
    "\n",
    "data = pd.DataFrame(data)\n",
    "columns = ['card_no', 'deal_date', 'deal_type', 'deal_money', 'deal_value', 'equ_no', 'company_name', 'station', 'car_no', 'conn_mark', 'close_date']\n",
    "data = data[columns]  # 调整字段顺序\n",
    "data.info()\n",
    "   \n",
    "\n",
    "# 数据清洗\n",
    "\n",
    "# 检查并处理重复值\n",
    "duplicate_rows = data.duplicated().sum()\n",
    "print(f\"重复值数量：{duplicate_rows}\")\n",
    "if duplicate_rows > 0:\n",
    "    data = data.drop_duplicates()\n",
    "    print(\"已移除重复值\")\n",
    "\n",
    "# 检查并处理缺失值\n",
    "missing_values = data.isnull().sum()\n",
    "print(\"缺失值情况：\")\n",
    "print(missing_values)\n",
    "if missing_values.any():\n",
    "    data = data.dropna()\n",
    "    print(\"已移除缺失值\")\n",
    "\n",
    "# 重新检查数据情况\n",
    "print(\"数据概览：\")\n",
    "print(data.info())\n",
    "print(\"数据预览：\")\n",
    "print(data.head())\n",
    "# 将数据保存为CSV文件\n",
    "data.to_csv('data/processed_data.csv', index=False, encoding='utf-8')\n",
    "print(\"数据已保存为 data/processed_data.csv\")"
   ]
  }
 ],
 "metadata": {
  "kernelspec": {
   "display_name": "base",
   "language": "python",
   "name": "python3"
  },
  "language_info": {
   "name": "python",
   "version": "3.12.4"
  }
 },
 "nbformat": 4,
 "nbformat_minor": 2
}
