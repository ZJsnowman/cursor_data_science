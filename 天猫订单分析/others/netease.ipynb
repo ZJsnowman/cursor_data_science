{
 "cells": [
  {
   "cell_type": "code",
   "execution_count": 2,
   "metadata": {},
   "outputs": [
    {
     "name": "stdout",
     "output_type": "stream",
     "text": [
      "提取的role_id: 698382\n",
      "提取的vip: 6\n"
     ]
    }
   ],
   "source": [
    "import re\n",
    "import json\n",
    "\n",
    "def extract_fields(log_line):\n",
    "    # 使用正则表达式提取JSON部分\n",
    "    json_match = re.search(r'\\{.*\\}', log_line)\n",
    "    if not json_match:\n",
    "        return None, 0\n",
    "\n",
    "    try:\n",
    "        # 解析JSON数据\n",
    "        data = json.loads(json_match.group())\n",
    "        \n",
    "        # 提取role_id\n",
    "        role_id = data.get('role_id')\n",
    "        \n",
    "        # 提取vip，如果不存在则默认为0\n",
    "        vip = data.get('vip', 0)\n",
    "        \n",
    "        return role_id, vip\n",
    "    except json.JSONDecodeError:\n",
    "        return None, 0\n",
    "\n",
    "# 测试函数\n",
    "log_sample = '1068 1529597015396 g60-database-380.i.nease.net /home/g60/gamedata/log/g60_GameStatistic_20180622.log 380_game02 G60_GameStatistic 1529596878_35 [2018-06-22 00:01:18][MercLevelUp],{\"merc_capacity\":2739,\"cur_level\":70,\"account_id\":\"aebfr2ualeolqplc@ad.netease.win.163.com\",\"type_id\":307,\"udid\":\"66e0b0278fbef358\",\"ip\":\"101.90.127.224\",\"role_sex\":1,\"app_channel\":\"netease\",\"server\":\"380\",\"role_occ\":4,\"role_id\":\"698382\",\"vip\":6,\"pre_level\":69,\"guid\":6882678726665895936,\"role_level\":80}'\n",
    "\n",
    "role_id, vip = extract_fields(log_sample)\n",
    "print(f\"提取的role_id: {role_id}\")\n",
    "print(f\"提取的vip: {vip}\")\n"
   ]
  },
  {
   "cell_type": "code",
   "execution_count": 12,
   "metadata": {},
   "outputs": [
    {
     "name": "stdout",
     "output_type": "stream",
     "text": [
      "               t_when  role_id  itemid action\n",
      "0 2020-01-01 12:10:00      110   10001   look\n",
      "1 2020-01-01 12:10:00      110   10001   look\n",
      "2 2020-01-01 08:20:00      110   10002   look\n",
      "3 2020-01-01 13:20:00      110   10003   look\n"
     ]
    },
    {
     "name": "stderr",
     "output_type": "stream",
     "text": [
      "/var/folders/y2/k5d5ndy14cl9jmv5klcfz7t00000gp/T/ipykernel_6886/1212969981.py:30: SettingWithCopyWarning: \n",
      "A value is trying to be set on a copy of a slice from a DataFrame.\n",
      "Try using .loc[row_indexer,col_indexer] = value instead\n",
      "\n",
      "See the caveats in the documentation: https://pandas.pydata.org/pandas-docs/stable/user_guide/indexing.html#returning-a-view-versus-a-copy\n",
      "  result_df['action'] = 'look'\n"
     ]
    }
   ],
   "source": [
    "import pandas as pd\n",
    "\n",
    "# 读取文件，假设无表头，使用tab分隔符\n",
    "df = pd.read_csv('src_rec_action_day.txt', sep='\\t', header=None, names=['t_when', 'role_id', 'action', 'itemid'])\n",
    "\n",
    "# 转换时间列为datetime格式\n",
    "df['t_when'] = pd.to_datetime(df['t_when'])\n",
    "\n",
    "# 提取 rec、look、buy 行为的记录\n",
    "rec_df = df[df['action'] == 'rec']\n",
    "look_df = df[df['action'] == 'look']\n",
    "buy_df = df[df['action'] == 'buy']\n",
    "\n",
    "# 将推荐和购买记录进行合并，确保推荐时间在购买时间之前\n",
    "rec_buy_df = pd.merge(rec_df, buy_df, on=['role_id', 'itemid'], suffixes=('_rec', '_buy'))\n",
    "rec_buy_df = rec_buy_df[rec_buy_df['t_when_rec'] < rec_buy_df['t_when_buy']]\n",
    "\n",
    "# 找到在 rec 和 buy 之间的 look 记录\n",
    "valid_look_df = pd.merge(rec_buy_df, look_df, on=['role_id', 'itemid'])\n",
    "valid_look_df = valid_look_df[\n",
    "    (valid_look_df['t_when'] > valid_look_df['t_when_rec']) &\n",
    "    (valid_look_df['t_when'] < valid_look_df['t_when_buy'])\n",
    "]\n",
    "\n",
    "# 对每个成功推荐的rec-buy对，找到第一条look记录\n",
    "first_look_df = valid_look_df.sort_values('t_when').groupby(['role_id', 'itemid', 't_when_rec', 't_when_buy']).first().reset_index()\n",
    "\n",
    "# 选择需要的字段，重命名为输出格式\n",
    "result_df = first_look_df[['t_when', 'role_id', 'itemid']]\n",
    "result_df['action'] = 'look'\n",
    "\n",
    "# 输出结果\n",
    "print(result_df)\n",
    "\n",
    "# 如果需要保存为文件\n",
    "result_df.to_csv('successful_rec_first_look.csv', index=False, sep='\\t', header=False)"
   ]
  },
  {
   "cell_type": "code",
   "execution_count": 10,
   "metadata": {},
   "outputs": [
    {
     "data": {
      "text/html": [
       "<div>\n",
       "<style scoped>\n",
       "    .dataframe tbody tr th:only-of-type {\n",
       "        vertical-align: middle;\n",
       "    }\n",
       "\n",
       "    .dataframe tbody tr th {\n",
       "        vertical-align: top;\n",
       "    }\n",
       "\n",
       "    .dataframe thead th {\n",
       "        text-align: right;\n",
       "    }\n",
       "</style>\n",
       "<table border=\"1\" class=\"dataframe\">\n",
       "  <thead>\n",
       "    <tr style=\"text-align: right;\">\n",
       "      <th></th>\n",
       "      <th>t_when</th>\n",
       "      <th>role_id</th>\n",
       "      <th>action</th>\n",
       "      <th>itemid</th>\n",
       "    </tr>\n",
       "  </thead>\n",
       "  <tbody>\n",
       "    <tr>\n",
       "      <th>0</th>\n",
       "      <td>2020-01-01 12:10:00</td>\n",
       "      <td>110</td>\n",
       "      <td>look</td>\n",
       "      <td>10001</td>\n",
       "    </tr>\n",
       "    <tr>\n",
       "      <th>1</th>\n",
       "      <td>2020-01-01 12:10:00</td>\n",
       "      <td>110</td>\n",
       "      <td>look</td>\n",
       "      <td>10001</td>\n",
       "    </tr>\n",
       "    <tr>\n",
       "      <th>2</th>\n",
       "      <td>2020-01-01 08:20:00</td>\n",
       "      <td>110</td>\n",
       "      <td>look</td>\n",
       "      <td>10002</td>\n",
       "    </tr>\n",
       "    <tr>\n",
       "      <th>3</th>\n",
       "      <td>2020-01-01 13:20:00</td>\n",
       "      <td>110</td>\n",
       "      <td>look</td>\n",
       "      <td>10003</td>\n",
       "    </tr>\n",
       "  </tbody>\n",
       "</table>\n",
       "</div>"
      ],
      "text/plain": [
       "               t_when  role_id action  itemid\n",
       "0 2020-01-01 12:10:00      110   look   10001\n",
       "1 2020-01-01 12:10:00      110   look   10001\n",
       "2 2020-01-01 08:20:00      110   look   10002\n",
       "3 2020-01-01 13:20:00      110   look   10003"
      ]
     },
     "execution_count": 10,
     "metadata": {},
     "output_type": "execute_result"
    }
   ],
   "source": [
    "result_df\n",
    "\n"
   ]
  },
  {
   "cell_type": "code",
   "execution_count": 15,
   "metadata": {},
   "outputs": [
    {
     "name": "stdout",
     "output_type": "stream",
     "text": [
      "               t_when  role_id  itemid action\n",
      "0 2020-01-01 12:10:00      110   10001   look\n",
      "1 2020-01-01 12:10:00      110   10001   look\n",
      "2 2020-01-01 08:20:00      110   10002   look\n",
      "3 2020-01-01 13:20:00      110   10003   look\n"
     ]
    },
    {
     "name": "stderr",
     "output_type": "stream",
     "text": [
      "/var/folders/y2/k5d5ndy14cl9jmv5klcfz7t00000gp/T/ipykernel_6886/1212969981.py:30: SettingWithCopyWarning: \n",
      "A value is trying to be set on a copy of a slice from a DataFrame.\n",
      "Try using .loc[row_indexer,col_indexer] = value instead\n",
      "\n",
      "See the caveats in the documentation: https://pandas.pydata.org/pandas-docs/stable/user_guide/indexing.html#returning-a-view-versus-a-copy\n",
      "  result_df['action'] = 'look'\n"
     ]
    }
   ],
   "source": [
    "import pandas as pd\n",
    "\n",
    "# 读取文件，假设无表头，使用tab分隔符\n",
    "df = pd.read_csv('src_rec_action_day.txt', sep='\\t', header=None, names=['t_when', 'role_id', 'action', 'itemid'])\n",
    "\n",
    "# 转换时间列为datetime格式\n",
    "df['t_when'] = pd.to_datetime(df['t_when'])\n",
    "\n",
    "# 提取 rec、look、buy 行为的记录\n",
    "rec_df = df[df['action'] == 'rec']\n",
    "look_df = df[df['action'] == 'look']\n",
    "buy_df = df[df['action'] == 'buy']\n",
    "\n",
    "# 将推荐和购买记录进行合并，确保推荐时间在购买时间之前\n",
    "rec_buy_df = pd.merge(rec_df, buy_df, on=['role_id', 'itemid'], suffixes=('_rec', '_buy'))\n",
    "rec_buy_df = rec_buy_df[rec_buy_df['t_when_rec'] < rec_buy_df['t_when_buy']]\n",
    "\n",
    "# 找到在 rec 和 buy 之间的 look 记录\n",
    "valid_look_df = pd.merge(rec_buy_df, look_df, on=['role_id', 'itemid'])\n",
    "valid_look_df = valid_look_df[\n",
    "    (valid_look_df['t_when'] > valid_look_df['t_when_rec']) &\n",
    "    (valid_look_df['t_when'] < valid_look_df['t_when_buy'])\n",
    "]\n",
    "\n",
    "# 对每个成功推荐的rec-buy对，找到第一条look记录\n",
    "first_look_df = valid_look_df.sort_values('t_when').groupby(['role_id', 'itemid', 't_when_rec', 't_when_buy']).first().reset_index()\n",
    "\n",
    "# 选择需要的字段，重命名为输出格式\n",
    "result_df = first_look_df[['t_when', 'role_id', 'itemid']]\n",
    "result_df['action'] = 'look'\n",
    "\n",
    "# 输出结果\n",
    "print(result_df)\n",
    "\n",
    "# 如果需要保存为文件\n",
    "result_df.to_csv('successful_rec_first_look.csv', index=False, sep='\\t', header=False)"
   ]
  },
  {
   "cell_type": "code",
   "execution_count": 16,
   "metadata": {},
   "outputs": [
    {
     "name": "stdout",
     "output_type": "stream",
     "text": [
      "               t_when  role_id  itemid action\n",
      "0 2020-01-01 08:20:00      110   10002   look\n",
      "1 2020-01-01 12:10:00      110   10001   look\n",
      "2 2020-01-01 13:20:00      110   10003   look\n"
     ]
    }
   ],
   "source": [
    "import pandas as pd\n",
    "\n",
    "# 读取文件，假设无表头，使用tab分隔符\n",
    "df = pd.read_csv('src_rec_action_day.txt', sep='\\t', header=None, names=['t_when', 'role_id', 'action', 'itemid'])\n",
    "\n",
    "# 转换时间列为datetime格式\n",
    "df['t_when'] = pd.to_datetime(df['t_when'])\n",
    "\n",
    "# 提取 rec、look、buy 行为的记录\n",
    "rec_df = df[df['action'] == 'rec']\n",
    "look_df = df[df['action'] == 'look']\n",
    "buy_df = df[df['action'] == 'buy']\n",
    "\n",
    "# 将推荐和购买记录进行合并，确保推荐时间在购买时间之前\n",
    "rec_buy_df = pd.merge(rec_df, buy_df, on=['role_id', 'itemid'], suffixes=('_rec', '_buy'))\n",
    "rec_buy_df = rec_buy_df[rec_buy_df['t_when_rec'] < rec_buy_df['t_when_buy']]\n",
    "\n",
    "# 找到在 rec 和 buy 之间的 look 记录\n",
    "valid_look_df = pd.merge(rec_buy_df, look_df, on=['role_id', 'itemid'])\n",
    "valid_look_df = valid_look_df[\n",
    "    (valid_look_df['t_when'] > valid_look_df['t_when_rec']) &\n",
    "    (valid_look_df['t_when'] < valid_look_df['t_when_buy'])\n",
    "]\n",
    "\n",
    "# 对每个成功推荐的rec-buy对，找到唯一的第一条look记录，先按时间排序再groupby\n",
    "first_look_df = valid_look_df.sort_values('t_when').drop_duplicates(subset=['role_id', 'itemid', 't_when_rec'], keep='first')\n",
    "\n",
    "# 选择需要的字段，重命名为输出格式\n",
    "result_df = first_look_df[['t_when', 'role_id', 'itemid']].copy()\n",
    "result_df['action'] = 'look'\n",
    "\n",
    "# 按照时间排序\n",
    "result_df = result_df.sort_values('t_when').reset_index(drop=True)\n",
    "\n",
    "# 输出结果\n",
    "print(result_df)\n",
    "\n",
    "# 如果需要保存为文件\n",
    "result_df.to_csv('successful_rec_first_look.csv', index=False, sep='\\t', header=False)"
   ]
  },
  {
   "cell_type": "code",
   "execution_count": null,
   "metadata": {},
   "outputs": [],
   "source": []
  }
 ],
 "metadata": {
  "kernelspec": {
   "display_name": "base",
   "language": "python",
   "name": "python3"
  },
  "language_info": {
   "codemirror_mode": {
    "name": "ipython",
    "version": 3
   },
   "file_extension": ".py",
   "mimetype": "text/x-python",
   "name": "python",
   "nbconvert_exporter": "python",
   "pygments_lexer": "ipython3",
   "version": "3.12.4"
  }
 },
 "nbformat": 4,
 "nbformat_minor": 2
}
